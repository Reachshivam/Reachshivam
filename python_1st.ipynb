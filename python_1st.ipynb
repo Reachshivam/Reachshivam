{
  "nbformat": 4,
  "nbformat_minor": 0,
  "metadata": {
    "colab": {
      "name": "python 1st.ipynb",
      "provenance": [],
      "authorship_tag": "ABX9TyNgJQmSt+ymsPUU6DRHXboI",
      "include_colab_link": true
    },
    "kernelspec": {
      "name": "python3",
      "display_name": "Python 3"
    },
    "language_info": {
      "name": "python"
    }
  },
  "cells": [
    {
      "cell_type": "markdown",
      "metadata": {
        "id": "view-in-github",
        "colab_type": "text"
      },
      "source": [
        "<a href=\"https://colab.research.google.com/github/Reachshivam/Reachshivam/blob/main/python_1st.ipynb\" target=\"_parent\"><img src=\"https://colab.research.google.com/assets/colab-badge.svg\" alt=\"Open In Colab\"/></a>"
      ]
    },
    {
      "cell_type": "code",
      "execution_count": null,
      "metadata": {
        "colab": {
          "base_uri": "https://localhost:8080/"
        },
        "id": "xmHTXXTudBzN",
        "outputId": "88f49118-8ab9-4f2b-df47-ae14550b6b54"
      },
      "outputs": [
        {
          "output_type": "stream",
          "name": "stdout",
          "text": [
            "The value of a is  5\n"
          ]
        }
      ],
      "source": [
        "a=5\n",
        "print(\"The value of a is \",a)\n",
        "#A"
      ]
    },
    {
      "cell_type": "code",
      "source": [
        "#Area of Rectangle\n",
        "l=int(input(\"Enter the length of Rectangle \"))\n",
        "b=int(input(\"Enter of breath of Rectangle \"))\n",
        "Area=l*b\n",
        "print(\"Area of Rectangle is \",Area)"
      ],
      "metadata": {
        "colab": {
          "base_uri": "https://localhost:8080/"
        },
        "id": "3YUc9KYSddy-",
        "outputId": "f1cdd9ff-bba0-457e-b222-19a018234754"
      },
      "execution_count": null,
      "outputs": [
        {
          "output_type": "stream",
          "name": "stdout",
          "text": [
            "Enter the length of Rectangle 20\n",
            "Enter of breath of Rectangle 20\n",
            "Area of Rectangle is  400\n"
          ]
        }
      ]
    },
    {
      "cell_type": "code",
      "source": [
        "#Titration\n",
        "# We have p1v1 and p2v2 Where v1=9, p2=4,and v2=7 find p1=?\n",
        "v1=9\n",
        "p2=4\n",
        "v2=7\n",
        "p1=p2*v2/v1\n",
        "print(\"Titration is \",p1)\n"
      ],
      "metadata": {
        "id": "zNh2a0G3f7Da",
        "colab": {
          "base_uri": "https://localhost:8080/"
        },
        "outputId": "8959d3df-1e7e-435f-be52-139efdcd2cf6"
      },
      "execution_count": 3,
      "outputs": [
        {
          "output_type": "stream",
          "name": "stdout",
          "text": [
            "Titration is  3.111111111111111\n"
          ]
        }
      ]
    },
    {
      "cell_type": "code",
      "source": [
        "# Write a program to read two integer and perform arithmetic operations on them(Addition, Subtraction, Multiplication , Division)\n",
        "First=int(input(\"Enter first number to the user \"))\n",
        "Second=int(input(\"Enter Second number to the user \"))\n",
        "add= First+Second\n",
        "print(\"Addition of two numbers are \",add)\n",
        "Sub=First-Second\n",
        "print(\"Subtraction of two numbers are \",Sub)\n",
        "Mul=First*Second\n",
        "print(\"Multiplication of two numbers are \",Mul)\n",
        "div=First/Second\n",
        "print(\"Division of two numbers are \",div)"
      ],
      "metadata": {
        "colab": {
          "base_uri": "https://localhost:8080/"
        },
        "id": "W8ilYgmljdnf",
        "outputId": "8b2666db-b179-4602-a58f-657fb24d5f2e"
      },
      "execution_count": 5,
      "outputs": [
        {
          "output_type": "stream",
          "name": "stdout",
          "text": [
            "Enter first number to the user 20\n",
            "Enter Second number to the user 10\n",
            "Addition of two numbers are  30\n",
            "Subtraction of two numbers are  10\n",
            "Multiplication of two numbers are  200\n",
            "Division of two numbers are  2.0\n"
          ]
        }
      ]
    },
    {
      "cell_type": "code",
      "source": [
        "# Write a program to read the marks of three subjects and find average of them\n",
        "First=float(input(\"Enter the marks of python \"))\n",
        "Second=float(input(\"Enter the marks of DS \" ))\n",
        "Third=float(input(\"Enter the marks of Math&Static \"))\n",
        "Avg=First+Second+Third/3\n",
        "print(\"Average of three subjects are \",Avg)\n"
      ],
      "metadata": {
        "colab": {
          "base_uri": "https://localhost:8080/"
        },
        "id": "oCxpl5dmlSe9",
        "outputId": "14d31841-ac01-4ca6-b475-409df2921b88"
      },
      "execution_count": 9,
      "outputs": [
        {
          "output_type": "stream",
          "name": "stdout",
          "text": [
            "Enter the marks of python 86\n",
            "Enter the marks of DS 88\n",
            "Enter the marks of Math&Static 94\n",
            "Average of three subjects are  205.33333333333334\n"
          ]
        }
      ]
    },
    {
      "cell_type": "code",
      "source": [
        "# Write a program to convert Kilogram into Pound.\n",
        "pound= int(input(\"Enter the pound \"))\n",
        "kg=pound*0.45\n",
        "print(\"The value of kilogram into pound is\",kg)\n"
      ],
      "metadata": {
        "colab": {
          "base_uri": "https://localhost:8080/"
        },
        "id": "PF8GuUcinTIB",
        "outputId": "fc8f8018-9dbb-422e-f9d5-166157ca9111"
      },
      "execution_count": 12,
      "outputs": [
        {
          "output_type": "stream",
          "name": "stdout",
          "text": [
            "Enter the pound 2\n",
            "The value of kilogram into pound is 0.9\n"
          ]
        }
      ]
    },
    {
      "cell_type": "code",
      "source": [
        "# Surface area of a prism can be calculated if the lenghts of three sides are knwon. Write a program to takes the sides as input (read it as intger) and prints the surface area \n",
        "#of the prism(Surface Area= 2ab+2bc=2ca )\n",
        "a=int(input(\"Enter the Value of a of prism:  \"))\n",
        "b=int(input(\"Enter the Value of b of prism:  \"))\n",
        "c=int(input(\"Enter the Value of c of prism:  \"))\n",
        "SOP= 2*a*b+2*b*c+2*c*a\n",
        "print(\"Surface area is:  \",SOP) "
      ],
      "metadata": {
        "colab": {
          "base_uri": "https://localhost:8080/"
        },
        "id": "oOthEPICpoCX",
        "outputId": "38efd40a-a5ae-4062-894f-22abc8ded334"
      },
      "execution_count": 17,
      "outputs": [
        {
          "output_type": "stream",
          "name": "stdout",
          "text": [
            "Enter the Value of a of prism:  10\n",
            "Enter the Value of b of prism:  10\n",
            "Enter the Value of c of prism:  10\n",
            "Surface area is:   600\n"
          ]
        }
      ]
    },
    {
      "cell_type": "code",
      "source": [
        "# A plane travels 395,000meters in 9000seconds. Write a program to find the speed of the plane(Speed= Distance/Time)\n",
        "Distance=395000\n",
        "Time=9000\n",
        "Speed=Distance/Time\n",
        "print(\"The speed of plane are: \",Speed)"
      ],
      "metadata": {
        "colab": {
          "base_uri": "https://localhost:8080/"
        },
        "id": "O6XJe3GnsE9k",
        "outputId": "266631b8-c44e-4c16-d9b3-2c5b6cacb3f2"
      },
      "execution_count": 18,
      "outputs": [
        {
          "output_type": "stream",
          "name": "stdout",
          "text": [
            "The speed of plane are:  43.888888888888886\n"
          ]
        }
      ]
    },
    {
      "cell_type": "code",
      "source": [
        "# You need to empty out of the rectangular swimming pool which is 12 meters long, 7 meters wide, and 2 meters depth. You have a pump which can move 17 cubic meters of water\n",
        "# in an hour. Write a program to find how long it will take to empty your pool? (Volume=l*w*h, and flow=volume/time)\n",
        "l=12\n",
        "w=7\n",
        "h=2\n",
        "t=3600\n",
        "volume=l*w*h\n",
        "print(\"Volume of swimming pool are: \",volume)\n",
        "flow=volume/t\n",
        "print(\"It will take time: \",flow)\n",
        "hrs=flow/60 # Convert into hours\n",
        "print(hrs)#"
      ],
      "metadata": {
        "colab": {
          "base_uri": "https://localhost:8080/"
        },
        "id": "Ns36wU51tKs8",
        "outputId": "c839c302-e719-4608-9644-ddf9b06b5cb0"
      },
      "execution_count": 22,
      "outputs": [
        {
          "output_type": "stream",
          "name": "stdout",
          "text": [
            "Volume of swimming pool are:  168\n",
            "It will take time:  0.04666666666666667\n",
            "0.0007777777777777778\n"
          ]
        }
      ]
    },
    {
      "cell_type": "code",
      "source": [
        "# Write a program calculates the number of seconds in a day\n",
        "d=24*60*60\n",
        "print(\"Number of seconds in a day are: \",d)\n"
      ],
      "metadata": {
        "colab": {
          "base_uri": "https://localhost:8080/"
        },
        "id": "SHpewIMCwxEk",
        "outputId": "e8ce5804-1f0a-4f46-e58f-9017fae0c5e1"
      },
      "execution_count": 27,
      "outputs": [
        {
          "output_type": "stream",
          "name": "stdout",
          "text": [
            "Number of seconds in a day are:  86400\n"
          ]
        }
      ]
    },
    {
      "cell_type": "code",
      "source": [
        "# A car starts from a spotlight and is travelling with a velocity of 10 m/sec east in 20 seconds. Write a program to find the accelaration of the car.(acc=(Vfinal-Vinitial))\n",
        "vfinal= 20*10\n",
        "vinital=10\n",
        "Acc=vfinal-vinital\n",
        "print(\"Accleration are: \",Acc)"
      ],
      "metadata": {
        "colab": {
          "base_uri": "https://localhost:8080/"
        },
        "id": "uk0-OldByDY_",
        "outputId": "2fb9dd27-040f-4184-d552-aa7a9d94cbb1"
      },
      "execution_count": 26,
      "outputs": [
        {
          "output_type": "stream",
          "name": "stdout",
          "text": [
            "Accleration are:  190\n"
          ]
        }
      ]
    },
    {
      "cell_type": "code",
      "source": [
        ""
      ],
      "metadata": {
        "id": "QWNw8_wppmUx"
      },
      "execution_count": null,
      "outputs": []
    }
  ]
}